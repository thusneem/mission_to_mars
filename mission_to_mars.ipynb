{
 "cells": [
  {
   "cell_type": "code",
   "execution_count": 16,
   "metadata": {},
   "outputs": [],
   "source": [
    "from bs4 import BeautifulSoup as bs\n",
    "import requests\n",
    "from splinter import Browser\n",
    "from splinter.exceptions import ElementDoesNotExist\n",
    "import pandas as pd\n",
    "import re"
   ]
  },
  {
   "cell_type": "code",
   "execution_count": 17,
   "metadata": {},
   "outputs": [],
   "source": [
    "executable_path = {'executable_path': 'c:/chromedriver_win32/chromedriver.exe'}\n",
    "browser = Browser('chrome', **executable_path, headless=False)\n"
   ]
  },
  {
   "cell_type": "code",
   "execution_count": 6,
   "metadata": {},
   "outputs": [
    {
     "name": "stdout",
     "output_type": "stream",
     "text": [
      "\n",
      "NASA Invests in Visionary Technology \n",
      "\n",
      "NASA's Mars Curiosity rover drove about 197 feet over the weekend to a site called Lake Orcadie, pushing its total odometry to over 12 miles.\n"
     ]
    }
   ],
   "source": [
    "\n",
    "#Scrape the(https://mars.nasa.gov/news/) and collect the latest News Title and Paragraph Text.\n",
    "url='https://mars.nasa.gov/news/'\n",
    "browser.visit(url)\n",
    "html = browser.html\n",
    "soup = bs(html, 'html.parser')\n",
    "\n",
    "results=soup.find_all('div',class_='content_title')\n",
    "for result in results:\n",
    "    news_title = result.find('a').get_text()\n",
    "    news_paragraphs = soup.find('div',class_='article_teaser_body').get_text()\n",
    "\n",
    "\n",
    "print(news_title)\n",
    "print(news_paragraphs)\n",
    "\n"
   ]
  },
  {
   "cell_type": "code",
   "execution_count": 10,
   "metadata": {},
   "outputs": [
    {
     "name": "stdout",
     "output_type": "stream",
     "text": [
      "https://www.jpl.nasa.gov/spaceimages/images/wallpaper/PIA14254-1920x1200.jpg\n"
     ]
    }
   ],
   "source": [
    " #Visit the url for JPL Featured Space Image [here](https://www.jpl.nasa.gov/spaceimages/?search=&category=Mars).\n",
    "url1='https://www.jpl.nasa.gov/spaceimages/?search=&category=Mars'\n",
    "browser.visit(url1)\n",
    "html1 = browser.html\n",
    "soup1 = bs(html1, 'html.parser')\n",
    "mars_image=soup1.find('article',class_='carousel_item')\n",
    "mars_url=mars_image['style'].strip()\n",
    "extract_url= re.sub('[(){}<>]', '', mars_url)\n",
    "result = re.search('background-image: url(.*);',extract_url)\n",
    "mars_image_url=result.group(1).strip('\\'')\n",
    "featured_img_url='https://www.jpl.nasa.gov'+mars_image_url\n",
    "print(featured_img_url)"
   ]
  },
  {
   "cell_type": "code",
   "execution_count": 8,
   "metadata": {},
   "outputs": [
    {
     "name": "stdout",
     "output_type": "stream",
     "text": [
      "Sol 2224 (2018-11-08), high 0C/32F, low -72C/-97F, pressure at 8.65 hPa, daylight 06:19-18:36\n"
     ]
    }
   ],
   "source": [
    "# Visit the Mars Weather twitter account and scrape the latest Mars weather tweet from the page.\n",
    "url2='https://twitter.com/marswxreport?lang=en'\n",
    "browser.visit(url2)\n",
    "html2 = browser.html\n",
    "soup2 = bs(html2, 'html.parser')\n",
    "mars_weather=soup2.find('p',class_='tweet-text').text\n",
    "print(mars_weather)"
   ]
  },
  {
   "cell_type": "code",
   "execution_count": 11,
   "metadata": {},
   "outputs": [
    {
     "name": "stdout",
     "output_type": "stream",
     "text": [
      "<table border=\"1\" class=\"dataframe\">\n",
      "  <thead>\n",
      "    <tr style=\"text-align: right;\">\n",
      "      <th></th>\n",
      "      <th>description</th>\n",
      "      <th>measurement</th>\n",
      "    </tr>\n",
      "  </thead>\n",
      "  <tbody>\n",
      "    <tr>\n",
      "      <th>0</th>\n",
      "      <td>Equatorial Diameter:</td>\n",
      "      <td>6,792 km</td>\n",
      "    </tr>\n",
      "    <tr>\n",
      "      <th>1</th>\n",
      "      <td>Polar Diameter:</td>\n",
      "      <td>6,752 km</td>\n",
      "    </tr>\n",
      "    <tr>\n",
      "      <th>2</th>\n",
      "      <td>Mass:</td>\n",
      "      <td>6.42 x 10^23 kg (10.7% Earth)</td>\n",
      "    </tr>\n",
      "    <tr>\n",
      "      <th>3</th>\n",
      "      <td>Moons:</td>\n",
      "      <td>2 (Phobos &amp; Deimos)</td>\n",
      "    </tr>\n",
      "    <tr>\n",
      "      <th>4</th>\n",
      "      <td>Orbit Distance:</td>\n",
      "      <td>227,943,824 km (1.52 AU)</td>\n",
      "    </tr>\n",
      "    <tr>\n",
      "      <th>5</th>\n",
      "      <td>Orbit Period:</td>\n",
      "      <td>687 days (1.9 years)</td>\n",
      "    </tr>\n",
      "    <tr>\n",
      "      <th>6</th>\n",
      "      <td>Surface Temperature:</td>\n",
      "      <td>-153 to 20 °C</td>\n",
      "    </tr>\n",
      "    <tr>\n",
      "      <th>7</th>\n",
      "      <td>First Record:</td>\n",
      "      <td>2nd millennium BC</td>\n",
      "    </tr>\n",
      "    <tr>\n",
      "      <th>8</th>\n",
      "      <td>Recorded By:</td>\n",
      "      <td>Egyptian astronomers</td>\n",
      "    </tr>\n",
      "  </tbody>\n",
      "</table>\n"
     ]
    }
   ],
   "source": [
    "#visit the Mars Facts webpage [here](http://space-facts.com/mars/) and use Pandas to scrape the table containing facts\n",
    "url3='http://space-facts.com/mars/'\n",
    "browser.visit(url3)\n",
    "html3 = browser.html\n",
    "soup3 = bs(html3, 'html.parser')\n",
    "tables = pd.read_html(url3)\n",
    "type(tables)\n",
    "df=tables[0]\n",
    "df.columns=['description','measurement']\n",
    "html_table = df.to_html()\n",
    "html_table.replace('\\n', '')\n",
    "print(html_table)\n",
    "df.to_html('table.html')\n"
   ]
  },
  {
   "cell_type": "code",
   "execution_count": 18,
   "metadata": {},
   "outputs": [
    {
     "name": "stdout",
     "output_type": "stream",
     "text": [
      "[{'image_url': 'http://astropedia.astrogeology.usgs.gov/download/Mars/Viking/cerberus_enhanced.tif/full.jpg', 'title': 'Cerberus Hemisphere'}, {'image_url': 'http://astropedia.astrogeology.usgs.gov/download/Mars/Viking/schiaparelli_enhanced.tif/full.jpg', 'title': 'Schiaparelli Hemisphere'}, {'image_url': 'http://astropedia.astrogeology.usgs.gov/download/Mars/Viking/syrtis_major_enhanced.tif/full.jpg', 'title': 'Syrtis Major Hemisphere'}, {'image_url': 'http://astropedia.astrogeology.usgs.gov/download/Mars/Viking/valles_marineris_enhanced.tif/full.jpg', 'title': 'Valles Marineris Hemisphere'}]\n"
     ]
    }
   ],
   "source": [
    "url4='https://astrogeology.usgs.gov/search/results?q=hemisphere+enhanced&k1=target&v1=Mars'\n",
    "browser.visit(url4)\n",
    "html4 = browser.html\n",
    "soup4 = bs(html4, 'html.parser')\n",
    "hemi_url = soup4.find_all('div', class_='item')\n",
    "url_list=[]\n",
    "link_title=[]\n",
    "dicts_title_link = {}\n",
    "\n",
    "for element in hemi_url: \n",
    "    link = element.find('a')\n",
    "    url_list.append('https://astrogeology.usgs.gov'+link['href'])\n",
    "for url in url_list:\n",
    "    browser.visit(url)\n",
    "    html = browser.html\n",
    "    soup = bs(html, 'html.parser')\n",
    "    elements = soup.find('div',class_='downloads')\n",
    "    a = elements.find('a')  \n",
    "    dicts_title_link['image_url'] = a['href']\n",
    "\n",
    "    title_url=soup.find('h2',class_='title').text \n",
    "    title=(' '.join(title_url.split()[:-1])) \n",
    "    dicts_title_link['title']=title\n",
    "               \n",
    "    link_title.append(dicts_title_link)\n",
    "    dicts_title_link ={}\n",
    "\n",
    "print(link_title)    "
   ]
  },
  {
   "cell_type": "code",
   "execution_count": null,
   "metadata": {},
   "outputs": [],
   "source": []
  },
  {
   "cell_type": "code",
   "execution_count": null,
   "metadata": {},
   "outputs": [],
   "source": []
  },
  {
   "cell_type": "code",
   "execution_count": null,
   "metadata": {},
   "outputs": [],
   "source": []
  },
  {
   "cell_type": "code",
   "execution_count": null,
   "metadata": {},
   "outputs": [],
   "source": []
  },
  {
   "cell_type": "code",
   "execution_count": null,
   "metadata": {},
   "outputs": [],
   "source": []
  }
 ],
 "metadata": {
  "kernelspec": {
   "display_name": "Python 3",
   "language": "python",
   "name": "python3"
  },
  "language_info": {
   "codemirror_mode": {
    "name": "ipython",
    "version": 3
   },
   "file_extension": ".py",
   "mimetype": "text/x-python",
   "name": "python",
   "nbconvert_exporter": "python",
   "pygments_lexer": "ipython3",
   "version": "3.6.5"
  }
 },
 "nbformat": 4,
 "nbformat_minor": 2
}
